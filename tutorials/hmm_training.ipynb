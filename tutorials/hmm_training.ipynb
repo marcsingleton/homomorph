{
 "cells": [
  {
   "cell_type": "markdown",
   "id": "eb7933b1",
   "metadata": {},
   "source": [
    "# HMM Training Tutorial\n",
    "\n",
    "Welcome to the training tutorial! Since Homomorph doesn't have built-in methods for fitting HMMs to data, in this tutorial we'll cover examples of training HMMs where 1) the output distribution is discrete and continuous and 2) the hidden states are both known and unknown using maximum-likelihood criteria. Finally, we'll discuss a more advanced approach called discriminative training. We have a lot of ground to cover, so let's get started!\n",
    "\n",
    "## Known labels\n",
    "\n",
    "Normal, categorical, and some other discrete\n",
    "\n",
    "## Unknown labels\n",
    "\n",
    "Baum-Welch algorithm for same examples as in known labels\n",
    "\n",
    "## Discriminative training\n",
    "\n",
    "Some complex, real-world data with discriminative training"
   ]
  }
 ],
 "metadata": {
  "kernelspec": {
   "display_name": "Python 3 (ipykernel)",
   "language": "python",
   "name": "python3"
  },
  "language_info": {
   "codemirror_mode": {
    "name": "ipython",
    "version": 3
   },
   "file_extension": ".py",
   "mimetype": "text/x-python",
   "name": "python",
   "nbconvert_exporter": "python",
   "pygments_lexer": "ipython3",
   "version": "3.8.13"
  }
 },
 "nbformat": 4,
 "nbformat_minor": 5
}
