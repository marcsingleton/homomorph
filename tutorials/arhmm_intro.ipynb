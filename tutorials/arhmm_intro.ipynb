{
 "cells": [
  {
   "attachments": {},
   "cell_type": "markdown",
   "id": "513d2718",
   "metadata": {},
   "source": [
    "# ARHMM Tutorial\n",
    "\n",
    "## 1 What is an ARHMM?\n",
    "\n",
    "Though HMMs are powerful probabilistic models, they are actually relatively constrained examples of more general graphical models like Bayesian networks or Markov random fields. While these generalizations are useful at times, their additional flexibility can dramatically increase the computational complexity of many algorithms. In some cases, exact calculations are intractable. Here we'll discuss one small extension of HMMs that can improve their ability to model correlations between emissions while still employing the same efficient algorithms.\n",
    "\n",
    "In normal HMMs, the emission distributions depend only on the current state. Autoregressive HMMs (ARHMMs) make one small tweak to this structure by making the emission distributions depend on the current state **and** the previous emission. Graphically, if an HMM is represented by the typical lattice diagram shown below where boxes, circles, and arrows represent states, emissions, and probabilistic dependencies, respectively, then an ARHMM is equivalent to drawing an arrow from the previous state to the current one.\n",
    "\n",
    "![trellis](../assets/trellis.png)\n",
    "\n",
    "## 2 Bull and Bear Markets\n",
    "\n",
    "Let's introduce ARHMMs with a relatively simple stock market example. First, though, we need to import Homomorph and some helper packages since we'll be using them shortly."
   ]
  },
  {
   "cell_type": "code",
   "execution_count": 1,
   "id": "f372111e",
   "metadata": {},
   "outputs": [],
   "source": [
    "import sys\n",
    "sys.path = ['../src'] + sys.path\n",
    "\n",
    "import homomorph\n",
    "import matplotlib.pyplot as plt\n",
    "import numpy as np\n",
    "import scipy.stats as stats"
   ]
  },
  {
   "cell_type": "markdown",
   "id": "12d89744",
   "metadata": {},
   "source": [
    "### 2.1 Motivation and theory\n",
    "\n",
    "#### 2.2.1 Stock prices as autoregressive sequences\n",
    "\n",
    "At any moment the stock price of a company is a record of its value when one unit last traded hands, and these prices reflect the feelings of the parties involved in the trade. Often these feelings are founded in evidence. For example, the latest earnings report showed steady growth and record profits. On other occasions, they're based on more emotional factors, like the sense that prices can only go up or the desire to [exact revenge](https://en.wikipedia.org/wiki/GameStop_short_squeeze) on a corrupt financial establishment. Regardless of their origin, these feelings determine prices, and sometimes the feelings are broadly optimistic. These periods correspond to periods of sustained growth in prices known as a bull market. Other times there's doom and gloom on the horizon, the bear market takes hold, and prices fall.\n",
    "\n",
    "We can make a simple model of this behavior using an ARHMM. ARHMMs are a good fit for the stock market because we expect the price tomorrow to not deviate too greatly from the price today. To phrase this idea more precisely, even though the jumps between days might follow a consistent distribution, we still need to know the previous day's price to correctly place the endpoint of each jump. To be clear, an ARHMM isn't *strictly* necessary under an assumption of identical and independently distributed (iid) jumps. It's also possible to pre-process observed data by taking differences between subsequent days. This yields a sequence of jumps that can be modeled by a largely equivalent HMM. (There are some minor differences in the treatment of the first emission.) Despite this, ARHMMs are the more powerful framework because they allow an end-to-end treatment of the data (i.e. no pre-processing) and do not require the simplifying assumption of iid jumps.\n",
    "\n",
    "So far I've used the term jump loosely and suggested we're modeling them as a subtraction between subsequent days. This \"additive\" model is not the best fit to stock prices for two reasons. First, to allow prices to both increase and decrease, we need to allow negative jumps. However, this may result in negative stock prices if there are too many jumps down when the price is low. Second, the perception of price is more closely multiplicative than additive. For example, a \\\\$10 stock gaining another \\\\$10 is much more significant than the same gain for a \\\\$1000 stock.\n",
    "\n",
    "#### 2.2.2 Geometric Brownian motion\n",
    "\n",
    "The conventional \"multiplicative\" model of stock prices is called geometric Brownian motion and takes a specific form defined by the following stochastic differential equation\n",
    "\n",
    "$$ dS_t = \\mu S_t dt + \\sigma S_t dB_t $$\n",
    "\n",
    "where $S_t$ is the stochastic process, $\\mu$ is the drift, $\\sigma$ is the volatility, and $B_t$ is a standard Brownian motion. The drift and volatility are constants which parametrize the average growth or decay of the process and its variation, respectively.\n",
    "\n",
    "Don't worry too much about the exact meaning of this equation. Stochastic differential equations are an advanced topic that are rarely covered in detailed in even undergraduate probability courses. The important take-away for us is the value of the process changes according to both a deterministic and stochastic part. The deterministic part is proportional to $\\mu$ and the current value of the process. The stochastic part is proportional to $\\sigma$, the current value of the process, and a standard Brownian differential $dB_t$. Roughly speaking a standard Brownian differential is a like small step sampled from a normal distribution, which is actually how we'll simulate it later.\n",
    "\n",
    "Fortunately for us the previous equation has the analytic solution\n",
    "\n",
    "$$ S_t = S_0 \\exp \\left( \\left( \\mu - \\frac{\\sigma^2}{2} \\right)t + \\sigma B_t \\right) $$\n",
    "\n",
    "where $S_0$ is the initial value of the process. This gives us an explicit formula for calculating the value of the process at any time. (Technically speaking a standard Brownian motion is a continuous process, but we easily generate a discrete analog by accumulating a sequence of normal variates.) As a quick note, the `ARHMM` generates simulations sequentially, so technically we take $t = 1$ in the above equation, and generate one step at a time. Don't worry, this is equivalent to accumulating a sequence of normal variates which can be shown by expanding $S_t$ in terms of single steps.\n",
    "\n",
    "We also need a expression for its pdf for some later calculations:\n",
    "\n",
    "$$\n",
    "f_{S_t}(x; \\mu, \\sigma, t)\n",
    "=\n",
    "\\frac{1}{x \\sigma \\sqrt{2 \\pi t}}\n",
    "\\exp{\\left(-\\frac{\\left(\\ln x - \\ln S_0\n",
    "                        - (\\mu - \\frac{1}{2} \\sigma^2)t\n",
    "                  \\right)^2}\n",
    "                 {2 \\sigma^2 t}\n",
    "     \\right)}\n",
    "$$\n",
    "\n",
    "### 2.2 Instantiating the model\n",
    "\n",
    "With the motivation and theory out of the way, let's actually build an ARHMM! If you've followed the [HMM tutorial](https://github.com/marcsingleton/homomorph/blob/main/tutorials/hmm_intro.ipynb), most of what follows should be familiar. I'll focus exclusively on the features unique to the `ARHMM` class, so if you have any questions about the other arguments, please refer to the HMM tutorial.\n",
    "\n",
    "The first difference is in the arguments of the methods of the emission distributions. Since they depend on the previous emission, we'll need to make some minor adjustments to the SciPy conventions. Unfortunately, this also means we can't directly use SciPy random variables, so we'll have to make a custom class. Although SciPy random variables implement many methods, the `ARHMM` class only uses the `rvs` and `pdf` or `pmf` methods, so we only need to supply those. Since the distributions also need to remember their parameters, we'll create a class that directly returns a \"frozen\" random variable."
   ]
  },
  {
   "cell_type": "code",
   "execution_count": 2,
   "id": "838c79a9",
   "metadata": {},
   "outputs": [],
   "source": [
    "class GBM_rv:\n",
    "    def __init__(self, mu, sigma):\n",
    "        self.mu = mu\n",
    "        self.sigma = sigma\n",
    "    \n",
    "    def rvs(self, x):\n",
    "        d = self.mu - self.sigma ** 2 / 2\n",
    "        s = self.sigma * stats.norm.rvs()\n",
    "        return x * np.exp(d + s)\n",
    "    \n",
    "    def pdf(self, x):\n",
    "        x0, x1 = x\n",
    "        sigma2 = self.sigma ** 2\n",
    "        c = 1 / (x1 * self.sigma * (2*np.pi) ** 0.5)\n",
    "        n = (np.log(x1/x0) - self.mu + 0.5 * sigma2) ** 2\n",
    "        d = 2 * sigma2\n",
    "        return c * np.exp(-n / d)"
   ]
  },
  {
   "cell_type": "markdown",
   "id": "5fc2988a",
   "metadata": {},
   "source": [
    "We'll go ahead and create the random variables for each state. We can choose the parameters blindly, but it's actually a little tricky to set them correctly to make the resulting sample paths look like plausible stock prices. The problem is $\\mu$ and $\\sigma$ are not directly related to intuitive measures like annual growth rate or the coefficient of variation. Fortunately with a small amount of work we can relate these quantities.\n",
    "\n",
    "Let's quickly review the equations for the expected value and variance of $S_t$ since we'll need them for our derivations.\n",
    "\n",
    "$$\n",
    "E(S_t) = S_0 e^{\\mu t} \\\\\n",
    "Var(S_t) = S_0^2e^{2 \\mu t} \\left(e^{\\sigma^2 t} - 1 \\right)\n",
    "$$\n",
    "\n",
    "A nice measure for the growth of an investment is the average annual growth rate (AAGR), which we can easily relate to $\\mu$ from the equation for expected value.\n",
    "\n",
    "$$\n",
    "E(S_{365}) = S_0 e^{365 \\mu} \\\\\n",
    "\\log \\left( \\frac{E(S_{365})}{S_0} \\right) = 365 \\mu \\\\\n",
    "\\frac{\\log \\left( AAGR \\right)}{365} = \\mu \\\\\n",
    "$$\n",
    "\n",
    "The variance is trickier to think about since it's expressed in square units. A more intuitive quantity is the coefficient of variation (CV), which is the ratio of the standard deviation to the mean. We'll begin with deriving an equation for CV.\n",
    "\n",
    "$$\n",
    "\\begin{aligned}\n",
    "CV(S_t) &= \\frac{\\sqrt{Var(S_t)}}{E(S_t)} \\\\\n",
    "&= \\frac{\\sqrt{S_0^2e^{2 \\mu t} \\left(e^{\\sigma^2 t} - 1 \\right)}}\n",
    "        {S_0 e^{\\mu t}} \\\\\n",
    "&= \\sqrt{e^{\\sigma^2 t} - 1 }\n",
    "\\end{aligned}\n",
    "$$\n",
    "\n",
    "Now let's re-arrange this equation to express $\\sigma$ in terms of the CV after one year.\n",
    "\n",
    "$$\n",
    "CV(S_{365}) = \\sqrt{e^{365 \\sigma^2} - 1 } \\\\\n",
    "CV(S_{365})^2 + 1 = e^{365 \\sigma^2} \\\\\n",
    "\\sqrt{\\frac{\\log{CV(S_{365})^2 + 1}}{365}} = \\sigma\n",
    "$$"
   ]
  },
  {
   "cell_type": "code",
   "execution_count": 3,
   "id": "73ed1826",
   "metadata": {},
   "outputs": [],
   "source": [
    "aagr_bull = 1.075\n",
    "aagr_bear = 0.90\n",
    "cv_bull = 0.075\n",
    "cv_bear = 0.09\n",
    "\n",
    "mu_bull = np.log(aagr_bull) / 365\n",
    "mu_bear = np.log(aagr_bear) / 365\n",
    "sigma_bull = (np.log(cv_bull**2 + 1) / 365) ** 0.5\n",
    "sigma_bear = (np.log(cv_bear**2 + 1) / 365) ** 0.5\n",
    "\n",
    "GBM_bull = GBM_rv(mu_bull, sigma_bull)\n",
    "GBM_bear = GBM_rv(mu_bear, sigma_bear)"
   ]
  },
  {
   "cell_type": "markdown",
   "id": "32bfe4f3",
   "metadata": {},
   "source": [
    "The second difference is the `ARHMM` class requires a `start_e_dist` argument. As you just saw, we constructed the emission distributions to explicitly depend on the previous emission. However, the first emission doesn't have a previous emission, so the behavior in this case is undefined! The probabilistically principled approach would be to treat the previous emission as an unobserved variable and sum over all possible values to obtain a marginal distribution for the first emission. For reasons of simplicity and flexibility, though, the `ARHMM` class asks you to explicitly provide a start emission distribution instead.\n",
    "\n",
    "To keep things simple, we'll make our stock prices always start at a constant value of 100. We can even imagine a company is about to IPO, and the finance team has set this as the initial price. SciPy doesn't provide a \"constant\" random variable, so we'll have to make it ourselves. As before, we need to define an class with `pdf` and `rvs` methods. Luckily this is extremely simple."
   ]
  },
  {
   "cell_type": "code",
   "execution_count": 4,
   "id": "b94b38a9",
   "metadata": {},
   "outputs": [],
   "source": [
    "class constant_rv:\n",
    "    def __init__(self, c):\n",
    "        self.c = c\n",
    "    \n",
    "    def rvs(self):\n",
    "        return self.c\n",
    "    \n",
    "    def pdf(self, x):\n",
    "        if x == self.c:\n",
    "            return 1\n",
    "        else:\n",
    "            return 0"
   ]
  },
  {
   "cell_type": "markdown",
   "id": "b1f5daa3",
   "metadata": {},
   "source": [
    "Now that we've built all the pieces, let's put them together and instantiate an `ARHMM`! To spice things up a little, we'll make it random whether it starts in a bull or bear market. We won't be too cruel to our company, so we'll tilt the odds in favor of the bull market."
   ]
  },
  {
   "cell_type": "code",
   "execution_count": 5,
   "id": "2be3092c",
   "metadata": {},
   "outputs": [
    {
     "data": {
      "text/plain": [
       "ARHMM(states={'bull', 'bear'},\n",
       "      stop_states=None,\n",
       "      name='AR Corp')"
      ]
     },
     "execution_count": 5,
     "metadata": {},
     "output_type": "execute_result"
    }
   ],
   "source": [
    "stock = homomorph.ARHMM(t_dists={'bull': {'bull': 0.999, 'bear': 0.001}, 'bear': {'bull': 0.005, 'bear': 0.995}},\n",
    "                        e_dists={'bull': GBM_bull, 'bear': GBM_bear},\n",
    "                        start_t_dist={'bull': 0.9, 'bear': 0.1},\n",
    "                        start_e_dists={'bull': constant_rv(100), 'bear': constant_rv(100)},\n",
    "                        name='AR Corp')\n",
    "stock"
   ]
  },
  {
   "cell_type": "markdown",
   "id": "0fc980c8",
   "metadata": {},
   "source": [
    "### 2.3 Calculations with ARHMMs\n",
    "\n",
    "If you've read the HMM tutorial, then you should be familiar with using the `HMM` class to simulate data and calculate various quantities. The `ARHMM` supports all the same operations, so I'll quickly demonstrate each. What follows largely serves as a test of the implementations, so I won't provide any context or explanation. If you have any questions, please refer to the HMM tutorial.\n",
    "\n",
    "#### 2.3.1 Simulation"
   ]
  },
  {
   "cell_type": "code",
   "execution_count": 6,
   "id": "110d5cbf",
   "metadata": {},
   "outputs": [
    {
     "data": {
      "image/png": "[encoded data removed]",
      "text/plain": [
       "<Figure size 432x288 with 2 Axes>"
      ]
     },
     "metadata": {
      "needs_background": "light"
     },
     "output_type": "display_data"
    }
   ],
   "source": [
    "step_num = 365 * 5  # Five year projection\n",
    "np.random.seed(12)\n",
    "steps = stock.simulate(step_num)\n",
    "states = [step[0] for step in steps]\n",
    "emits = [step[1] for step in steps]\n",
    "\n",
    "fig, axs = plt.subplots(2, 1, sharex=True)\n",
    "axs[0].plot(emits)\n",
    "axs[1].plot(states)\n",
    "axs[1].set_xlabel('Day')\n",
    "axs[0].set_ylabel('Price');"
   ]
  },
  {
   "cell_type": "markdown",
   "id": "f26855dd",
   "metadata": {},
   "source": [
    "#### 2.3.2 Emission probability (forward algorithm)"
   ]
  },
  {
   "cell_type": "code",
   "execution_count": 7,
   "id": "a2ff62b4",
   "metadata": {},
   "outputs": [
    {
     "name": "stdout",
     "output_type": "stream",
     "text": [
      "[0.9, 0.9162192187480763, 0.8791282358476881, 0.8954647674978955, 0.8627969604737894]\n",
      "[0.1, 0.08378078125192372, 0.12087176415231184, 0.10453523250210452, 0.13720303952621057]\n"
     ]
    }
   ],
   "source": [
    "fs, ss = stock.forward(emits)\n",
    "print(fs['bull'][:5])\n",
    "print(fs['bear'][:5])"
   ]
  },
  {
   "cell_type": "markdown",
   "id": "7eb112db",
   "metadata": {},
   "source": [
    "#### 2.3.3 State inference (Viterbi algorithm)"
   ]
  },
  {
   "cell_type": "code",
   "execution_count": 8,
   "id": "01bbafa0",
   "metadata": {},
   "outputs": [
    {
     "data": {
      "image/png": "[encoded data removed]",
      "text/plain": [
       "<Figure size 432x288 with 2 Axes>"
      ]
     },
     "metadata": {
      "needs_background": "light"
     },
     "output_type": "display_data"
    }
   ],
   "source": [
    "viterbi = stock.viterbi(emits)[0]\n",
    "\n",
    "fig, axs = plt.subplots(2, 1, sharex=True)\n",
    "axs[0].plot(emits)\n",
    "axs[1].plot(states, label='ground truth')\n",
    "axs[1].plot(viterbi, label='viterbi')\n",
    "axs[1].set_xlabel('Trial')\n",
    "axs[1].legend(frameon=False, loc='center left', bbox_to_anchor=(1, 0.5));"
   ]
  },
  {
   "cell_type": "markdown",
   "id": "559e4507",
   "metadata": {},
   "source": [
    "#### 2.3.4 State inference (forward-backward algorithm)"
   ]
  },
  {
   "cell_type": "code",
   "execution_count": 9,
   "id": "5b48717b",
   "metadata": {},
   "outputs": [
    {
     "data": {
      "image/png": "[encoded data removed]",
      "text/plain": [
       "<Figure size 432x288 with 2 Axes>"
      ]
     },
     "metadata": {
      "needs_background": "light"
     },
     "output_type": "display_data"
    }
   ],
   "source": [
    "fbs = stock.forward_backward(emits)\n",
    "\n",
    "fig, axs = plt.subplots(2, 1, sharex=True)\n",
    "axs[0].plot(emits)\n",
    "axs[1].plot(states, label='ground truth')\n",
    "axs[1].plot(fbs['bear'], label='forward-backward')\n",
    "axs[1].set_xlabel('Trial')\n",
    "axs[1].legend(frameon=False, loc='center left', bbox_to_anchor=(1, 0.5));"
   ]
  },
  {
   "cell_type": "markdown",
   "id": "04dcbd20",
   "metadata": {},
   "source": [
    "## 3 A coin flipping game\n",
    "\n",
    "AR(1) binomial example\n",
    "\n",
    "While I don't have a compelling real-world motivation to motivate this next example, I do find it interesting illustration of how it's not always immediately obvious how to construct an autoregressive model with certain properties."
   ]
  }
 ],
 "metadata": {
  "kernelspec": {
   "display_name": "Python 3 (ipykernel)",
   "language": "python",
   "name": "python3"
  },
  "language_info": {
   "codemirror_mode": {
    "name": "ipython",
    "version": 3
   },
   "file_extension": ".py",
   "mimetype": "text/x-python",
   "name": "python",
   "nbconvert_exporter": "python",
   "pygments_lexer": "ipython3",
   "version": "3.8.13"
  }
 },
 "nbformat": 4,
 "nbformat_minor": 5
}
