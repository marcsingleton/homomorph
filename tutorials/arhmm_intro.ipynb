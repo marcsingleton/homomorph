{
 "cells": [
  {
   "cell_type": "markdown",
   "id": "513d2718",
   "metadata": {},
   "source": [
    "# ARHMM Tutorial\n",
    "\n",
    "Though HMMs are powerful probabilistic models, they are actually relatively constrained examples of more general graphical models like Bayesian networks or Markov random fields. While these generalizations are useful at times, their additional flexibility can dramatically increase the computational complexity of many algorithms. In some cases, exact calculations are intractable. Here we'll discuss one small extension of HMMs that can improve their ability to model correlations between emissions while still employing the same efficient algorithms.\n",
    "\n",
    "In normal HMMs, the emission distributions depend only on the current state. Autoregressive HMMs (ARHMMs) make one small tweak to this structure by making the emission distributions depend on the current state **and** the previous emission. Graphically, if an HMM is represented by the typical lattice diagram shown below where boxes, circles, and arrows represent states, emissions, and probabilistic dependencies, respectively, then an ARHMM is equivalent to drawing an arrow from the previous state to the current one.\n",
    "\n",
    "AR(1) binomial example"
   ]
  }
 ],
 "metadata": {
  "kernelspec": {
   "display_name": "Python 3 (ipykernel)",
   "language": "python",
   "name": "python3"
  },
  "language_info": {
   "codemirror_mode": {
    "name": "ipython",
    "version": 3
   },
   "file_extension": ".py",
   "mimetype": "text/x-python",
   "name": "python",
   "nbconvert_exporter": "python",
   "pygments_lexer": "ipython3",
   "version": "3.8.13"
  }
 },
 "nbformat": 4,
 "nbformat_minor": 5
}
