{
 "cells": [
  {
   "cell_type": "markdown",
   "id": "746c30b4",
   "metadata": {},
   "source": [
    "# HMM Tutorial\n",
    "\n",
    "Welcome to the MixMod tutorial! Here we'll go over the basic functionality of Homomorph. It's a small package, so the explanation of the HMM class will be brief and will largely focus on formatting the inputs correctly. (HMMs are relatively parameter-rich, so the syntax for properly specifying all the components can be a little verbose!) The first portion of this tutorial is a brief introduction to HMM theory and applications, so feel free to skip to the next section if you're already familiar with HMMs.\n",
    "\n",
    "## HMM Theory and Applications\n",
    "\n",
    "### What are HMMs and what are they good for?\n",
    "\n",
    "### A formal definition\n",
    "\n",
    "## The HMM Class\n",
    "\n",
    "Instantiating an HMM\n",
    "- Categorical with dicts\n",
    "- Discrete and continuous with rvs\n",
    "- Stop states and random variate generation\n",
    "\n",
    "How likely is this sequence of observations? (forward algorithm)\n",
    "What is the most likely sequence of states? (Viterbi algorithm)\n",
    "What is the most likely state at each time point? (forward-backward algorithm)"
   ]
  }
 ],
 "metadata": {
  "kernelspec": {
   "display_name": "Python 3 (ipykernel)",
   "language": "python",
   "name": "python3"
  },
  "language_info": {
   "codemirror_mode": {
    "name": "ipython",
    "version": 3
   },
   "file_extension": ".py",
   "mimetype": "text/x-python",
   "name": "python",
   "nbconvert_exporter": "python",
   "pygments_lexer": "ipython3",
   "version": "3.8.13"
  }
 },
 "nbformat": 4,
 "nbformat_minor": 5
}
